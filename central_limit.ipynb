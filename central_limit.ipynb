{
 "cells": [
  {
   "cell_type": "code",
   "execution_count": 1,
   "metadata": {},
   "outputs": [],
   "source": [
    "import numpy as np\n",
    "import matplotlib.pyplot as plt"
   ]
  },
  {
   "cell_type": "code",
   "execution_count": 51,
   "metadata": {},
   "outputs": [
    {
     "data": {
      "text/plain": [
       "(40, 10000)"
      ]
     },
     "execution_count": 51,
     "metadata": {},
     "output_type": "execute_result"
    }
   ],
   "source": [
    "# a = np.random.uniform(0 , 10 ,size = (1000 , 10000))\n",
    "# a = np.random.chisquare(df = 3 , size = (1000 , 10000))\n",
    "a = np.random.poisson(lam = 4 , size = (40 ,10000))\n",
    "a.shape"
   ]
  },
  {
   "cell_type": "code",
   "execution_count": 52,
   "metadata": {},
   "outputs": [
    {
     "data": {
      "text/plain": [
       "(10000,)"
      ]
     },
     "execution_count": 52,
     "metadata": {},
     "output_type": "execute_result"
    }
   ],
   "source": [
    "a = a.mean(axis = 0)\n",
    "a.shape"
   ]
  },
  {
   "cell_type": "code",
   "execution_count": 53,
   "metadata": {},
   "outputs": [
    {
     "data": {
      "text/plain": [
       "(array([  7.,  11.,  24.,  35.,  88., 139., 227., 298., 462., 586., 694.,\n",
       "        777., 878., 933., 936., 868., 775., 623., 494., 395., 283., 165.,\n",
       "        112.,  75.,  52.,  29.,  20.,  11.,   0.,   3.]),\n",
       " array([2.95      , 3.02583333, 3.10166667, 3.1775    , 3.25333333,\n",
       "        3.32916667, 3.405     , 3.48083333, 3.55666667, 3.6325    ,\n",
       "        3.70833333, 3.78416667, 3.86      , 3.93583333, 4.01166667,\n",
       "        4.0875    , 4.16333333, 4.23916667, 4.315     , 4.39083333,\n",
       "        4.46666667, 4.5425    , 4.61833333, 4.69416667, 4.77      ,\n",
       "        4.84583333, 4.92166667, 4.9975    , 5.07333333, 5.14916667,\n",
       "        5.225     ]),\n",
       " <BarContainer object of 30 artists>)"
      ]
     },
     "execution_count": 53,
     "metadata": {},
     "output_type": "execute_result"
    },
    {
     "data": {
      "image/png": "[encoded data removed]",
      "text/plain": [
       "<Figure size 640x480 with 1 Axes>"
      ]
     },
     "metadata": {},
     "output_type": "display_data"
    }
   ],
   "source": [
    "plt.hist(a , bins = 30)"
   ]
  }
 ],
 "metadata": {
  "kernelspec": {
   "display_name": "base",
   "language": "python",
   "name": "python3"
  },
  "language_info": {
   "codemirror_mode": {
    "name": "ipython",
    "version": 3
   },
   "file_extension": ".py",
   "mimetype": "text/x-python",
   "name": "python",
   "nbconvert_exporter": "python",
   "pygments_lexer": "ipython3",
   "version": "3.9.13"
  }
 },
 "nbformat": 4,
 "nbformat_minor": 2
}
