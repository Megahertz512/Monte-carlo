{
 "cells": [
  {
   "cell_type": "code",
   "execution_count": 2,
   "metadata": {},
   "outputs": [],
   "source": [
    "import matplotlib.pyplot as plt"
   ]
  },
  {
   "cell_type": "code",
   "execution_count": 3,
   "metadata": {},
   "outputs": [],
   "source": [
    "class Sumofdices:\n",
    "\n",
    "    def __init__(self  , number_of_dice):\n",
    "        self.number_of_dice = number_of_dice\n",
    "        \n",
    "    \n",
    "    def create_probablity(self , a = None):\n",
    "\n",
    "        if a == None:\n",
    "            a = self.number_of_dice\n",
    "        if a == 1:\n",
    "            return  6*[1/6]\n",
    "        else :\n",
    "            create_prob_past1 = self.create_probablity(a - 1)\n",
    "            create_prob_past2 = self.create_probablity(a - 2  if a>2 else a-1)\n",
    "            res = [0] * (len(create_prob_past1) + len(create_prob_past2) - 1)\n",
    "            for o1 ,i1 in enumerate(create_prob_past2):\n",
    "                for o2 , i2 in enumerate(create_prob_past1):\n",
    "                    res[o1 + o2] += i1*i2 \n",
    "            return res\n",
    "        \n",
    "    def expected_value(self):\n",
    "        prob , result = self.create_probablity() , 0\n",
    "        for i ,j in enumerate(prob):\n",
    "            result += (i+1) * j\n",
    "        return result\n",
    "    \n",
    "    \n",
    "    def excepted_value_power_n(self , n):\n",
    "        prob , result = self.create_probablity() , 0\n",
    "        for i ,j in enumerate(prob):\n",
    "            result += (i+1)**n * j\n",
    "        return result\n",
    "    \n",
    "    def variance(self):\n",
    "        return self.excepted_value_power_n(2) - (self.excepted_value())**2\n",
    "    \n",
    "\n"
   ]
  },
  {
   "cell_type": "code",
   "execution_count": 17,
   "metadata": {},
   "outputs": [
    {
     "data": {
      "text/plain": [
       "<BarContainer object of 41 artists>"
      ]
     },
     "execution_count": 17,
     "metadata": {},
     "output_type": "execute_result"
    },
    {
     "data": {
      "image/png": "[encoded data removed]",
      "text/plain": [
       "<Figure size 640x480 with 1 Axes>"
      ]
     },
     "metadata": {},
     "output_type": "display_data"
    }
   ],
   "source": [
    "a = Sumofdices(5)\n",
    "X = a.create_probablity()\n",
    "plt.bar(x = range(1 ,len(X) + 1) , height = X)"
   ]
  }
 ],
 "metadata": {
  "kernelspec": {
   "display_name": "base",
   "language": "python",
   "name": "python3"
  },
  "language_info": {
   "codemirror_mode": {
    "name": "ipython",
    "version": 3
   },
   "file_extension": ".py",
   "mimetype": "text/x-python",
   "name": "python",
   "nbconvert_exporter": "python",
   "pygments_lexer": "ipython3",
   "version": "3.9.13"
  }
 },
 "nbformat": 4,
 "nbformat_minor": 2
}
